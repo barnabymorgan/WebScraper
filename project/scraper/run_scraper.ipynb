{
 "cells": [
  {
   "cell_type": "code",
   "execution_count": 2,
   "metadata": {},
   "outputs": [],
   "source": [
    "import boto3\n",
    "\n",
    "client = boto3.client('s3')\n",
    "\n",
    "client.upload_file('test.png', 'aicore-data-collection', 'test_img.png')"
   ]
  },
  {
   "cell_type": "code",
   "execution_count": 28,
   "metadata": {},
   "outputs": [],
   "source": [
    "import pandas as pd\n",
    "import sqlalchemy\n",
    "from sqlalchemy import create_engine, insert\n",
    "\n",
    "DATABASE_TYPE = \"postgresql\"\n",
    "DBAPI = \"psycopg2\"\n",
    "ENDPOINT = 'database-ai-data-collection.coybzgai5swr.eu-west-2.rds.amazonaws.com'\n",
    "USER = 'postgres'\n",
    "PASSWORD = 'Football8Inhaler1'\n",
    "DATABASE = 'postgres'\n",
    "PORT = 5432\n",
    "\n",
    "enigne = create_engine(f\"{DATABASE_TYPE}+{DBAPI}://{USER}:{PASSWORD}@{ENDPOINT}:{PORT}/{DATABASE}\")"
   ]
  },
  {
   "cell_type": "code",
   "execution_count": 42,
   "metadata": {},
   "outputs": [
    {
     "ename": "TypeError",
     "evalue": "DataFrame.from_dict() got an unexpected keyword argument 'index'",
     "output_type": "error",
     "traceback": [
      "\u001b[0;31m---------------------------------------------------------------------------\u001b[0m",
      "\u001b[0;31mTypeError\u001b[0m                                 Traceback (most recent call last)",
      "Input \u001b[0;32mIn [42]\u001b[0m, in \u001b[0;36m<module>\u001b[0;34m\u001b[0m\n\u001b[1;32m      1\u001b[0m enigne\u001b[38;5;241m.\u001b[39mconnect()\n\u001b[1;32m      2\u001b[0m sofa_dict \u001b[38;5;241m=\u001b[39m {\n\u001b[1;32m      3\u001b[0m     \u001b[38;5;124m\"\u001b[39m\u001b[38;5;124muuid\u001b[39m\u001b[38;5;124m\"\u001b[39m: \u001b[38;5;124m\"\u001b[39m\u001b[38;5;124mhui2309-cerc-verv\u001b[39m\u001b[38;5;124m\"\u001b[39m,\n\u001b[1;32m      4\u001b[0m     \u001b[38;5;124m\"\u001b[39m\u001b[38;5;124mfurniture_uuid\u001b[39m\u001b[38;5;124m\"\u001b[39m: \u001b[38;5;124m\"\u001b[39m\u001b[38;5;124mwdwue-moijnio23-nrfj\u001b[39m\u001b[38;5;124m\"\u001b[39m,\n\u001b[1;32m      5\u001b[0m     \u001b[38;5;124m\"\u001b[39m\u001b[38;5;124mimage_link\u001b[39m\u001b[38;5;124m\"\u001b[39m: \u001b[38;5;124m\"\u001b[39m\u001b[38;5;124mfwefwe\u001b[39m\u001b[38;5;124m\"\u001b[39m,\n\u001b[1;32m      6\u001b[0m     \u001b[38;5;124m\"\u001b[39m\u001b[38;5;124mimage_url\u001b[39m\u001b[38;5;124m\"\u001b[39m:\u001b[38;5;124m\"\u001b[39m\u001b[38;5;124mdwef.com\u001b[39m\u001b[38;5;124m\"\u001b[39m\n\u001b[1;32m      7\u001b[0m }\n\u001b[0;32m----> 9\u001b[0m sofa_df \u001b[38;5;241m=\u001b[39m \u001b[43mpd\u001b[49m\u001b[38;5;241;43m.\u001b[39;49m\u001b[43mDataFrame\u001b[49m\u001b[38;5;241;43m.\u001b[39;49m\u001b[43mfrom_dict\u001b[49m\u001b[43m(\u001b[49m\u001b[43msofa_dict\u001b[49m\u001b[43m,\u001b[49m\u001b[43m \u001b[49m\u001b[43mindex\u001b[49m\u001b[38;5;241;43m=\u001b[39;49m\u001b[43m[\u001b[49m\u001b[38;5;241;43m0\u001b[39;49m\u001b[43m]\u001b[49m\u001b[43m)\u001b[49m\n\u001b[1;32m     10\u001b[0m sofa_df\u001b[38;5;241m.\u001b[39mto_sql(\u001b[38;5;124m\"\u001b[39m\u001b[38;5;124mimage_data\u001b[39m\u001b[38;5;124m\"\u001b[39m,\n\u001b[1;32m     11\u001b[0m                enigne,\n\u001b[1;32m     12\u001b[0m                if_exists\u001b[38;5;241m=\u001b[39m\u001b[38;5;124m'\u001b[39m\u001b[38;5;124mreplace\u001b[39m\u001b[38;5;124m'\u001b[39m, \n\u001b[1;32m     13\u001b[0m             )\n",
      "\u001b[0;31mTypeError\u001b[0m: DataFrame.from_dict() got an unexpected keyword argument 'index'"
     ]
    }
   ],
   "source": [
    "enigne.connect()\n",
    "sofa_dict = {\n",
    "    \"uuid\": [\"hui2309-cerc-verv\"],\n",
    "    \"furniture_uuid\": [\"wdwue-moijnio23-nrfj\"],\n",
    "    \"image_link\": [\"fwefwe\"],\n",
    "    \"image_url\": [\"dwef.com\"]\n",
    "}\n",
    "\n",
    "sofa_df = pd.DataFrame.from_dict(sofa_dict)\n",
    "sofa_df.to_sql(\"image_data\",\n",
    "               enigne,\n",
    "               if_exists='replace', \n",
    "            )\n"
   ]
  }
 ],
 "metadata": {
  "interpreter": {
   "hash": "1a64bb04e0381a3bc3bd1e62a7b0433a3afc8f92b58159ac65d0155c60814af1"
  },
  "kernelspec": {
   "display_name": "Python 3.10.2 ('env_web_scrape')",
   "language": "python",
   "name": "python3"
  },
  "language_info": {
   "codemirror_mode": {
    "name": "ipython",
    "version": 3
   },
   "file_extension": ".py",
   "mimetype": "text/x-python",
   "name": "python",
   "nbconvert_exporter": "python",
   "pygments_lexer": "ipython3",
   "version": "3.10.2"
  },
  "orig_nbformat": 4
 },
 "nbformat": 4,
 "nbformat_minor": 2
}
